{
 "cells": [
  {
   "cell_type": "code",
   "id": "initial_id",
   "metadata": {
    "collapsed": true,
    "ExecuteTime": {
     "end_time": "2024-05-21T17:53:36.116608Z",
     "start_time": "2024-05-21T17:53:36.114Z"
    }
   },
   "source": [
    "from sklearn.model_selection import train_test_split\n",
    "from sklearn.linear_model import LinearRegression\n",
    "from sklearn.metrics import r2_score\n",
    "from matplotlib.pyplot import plot\n",
    "from joblib import dump\n",
    "import numpy as np\n",
    "import pandas as pd"
   ],
   "outputs": [],
   "execution_count": 221
  },
  {
   "metadata": {
    "ExecuteTime": {
     "end_time": "2024-05-21T17:53:36.618957Z",
     "start_time": "2024-05-21T17:53:36.613224Z"
    }
   },
   "cell_type": "code",
   "source": [
    "#Генерируем данные\n",
    "X = np.arange(1, 500, 2)\n",
    "Y = 0.3 * X + 0.6\n",
    "X = X.reshape(-1, 1)\n",
    "X_df = pd.DataFrame(data=X, columns=['X'])\n",
    "X_df"
   ],
   "id": "3559d6377fcce7b5",
   "outputs": [
    {
     "data": {
      "text/plain": [
       "       X\n",
       "0      1\n",
       "1      3\n",
       "2      5\n",
       "3      7\n",
       "4      9\n",
       "..   ...\n",
       "245  491\n",
       "246  493\n",
       "247  495\n",
       "248  497\n",
       "249  499\n",
       "\n",
       "[250 rows x 1 columns]"
      ],
      "text/html": [
       "<div>\n",
       "<style scoped>\n",
       "    .dataframe tbody tr th:only-of-type {\n",
       "        vertical-align: middle;\n",
       "    }\n",
       "\n",
       "    .dataframe tbody tr th {\n",
       "        vertical-align: top;\n",
       "    }\n",
       "\n",
       "    .dataframe thead th {\n",
       "        text-align: right;\n",
       "    }\n",
       "</style>\n",
       "<table border=\"1\" class=\"dataframe\">\n",
       "  <thead>\n",
       "    <tr style=\"text-align: right;\">\n",
       "      <th></th>\n",
       "      <th>X</th>\n",
       "    </tr>\n",
       "  </thead>\n",
       "  <tbody>\n",
       "    <tr>\n",
       "      <th>0</th>\n",
       "      <td>1</td>\n",
       "    </tr>\n",
       "    <tr>\n",
       "      <th>1</th>\n",
       "      <td>3</td>\n",
       "    </tr>\n",
       "    <tr>\n",
       "      <th>2</th>\n",
       "      <td>5</td>\n",
       "    </tr>\n",
       "    <tr>\n",
       "      <th>3</th>\n",
       "      <td>7</td>\n",
       "    </tr>\n",
       "    <tr>\n",
       "      <th>4</th>\n",
       "      <td>9</td>\n",
       "    </tr>\n",
       "    <tr>\n",
       "      <th>...</th>\n",
       "      <td>...</td>\n",
       "    </tr>\n",
       "    <tr>\n",
       "      <th>245</th>\n",
       "      <td>491</td>\n",
       "    </tr>\n",
       "    <tr>\n",
       "      <th>246</th>\n",
       "      <td>493</td>\n",
       "    </tr>\n",
       "    <tr>\n",
       "      <th>247</th>\n",
       "      <td>495</td>\n",
       "    </tr>\n",
       "    <tr>\n",
       "      <th>248</th>\n",
       "      <td>497</td>\n",
       "    </tr>\n",
       "    <tr>\n",
       "      <th>249</th>\n",
       "      <td>499</td>\n",
       "    </tr>\n",
       "  </tbody>\n",
       "</table>\n",
       "<p>250 rows × 1 columns</p>\n",
       "</div>"
      ]
     },
     "execution_count": 222,
     "metadata": {},
     "output_type": "execute_result"
    }
   ],
   "execution_count": 222
  },
  {
   "metadata": {
    "ExecuteTime": {
     "end_time": "2024-05-21T17:55:53.256584Z",
     "start_time": "2024-05-21T17:55:53.251700Z"
    }
   },
   "cell_type": "code",
   "source": [
    "#Генерируем основные датасеты и сохраняем тестовые в файлы\n",
    "X_train, X_test, y_train, y_test = train_test_split(X_df, Y, test_size=0.4, train_size=0.6, random_state=42)\n",
    "X_test.to_csv('X_test.csv', index=False)\n",
    "pd.DataFrame(y_test).to_csv('y_test.csv', index=False)"
   ],
   "id": "6b6b178e0b461f38",
   "outputs": [],
   "execution_count": 226
  },
  {
   "metadata": {
    "ExecuteTime": {
     "end_time": "2024-05-21T17:55:53.799913Z",
     "start_time": "2024-05-21T17:55:53.794989Z"
    }
   },
   "cell_type": "code",
   "source": [
    "#Генерируем датасет с шумами и сохраняем в файл\n",
    "X_noise_arr = np.arange(0,100,2)\n",
    "y = 0.3 * X_noise_arr + 0.6\n",
    "noise = np.random.normal(0,5, len(X_noise_arr))\n",
    "y_noise = y + noise\n",
    "X_noise = pd.DataFrame(data=X_noise_arr.reshape(-1, 1), columns=['X'])\n",
    "pd.DataFrame(y_noise).to_csv('y_noise.csv', index=False)\n",
    "X_noise.to_csv('X_noise.csv', index=False)"
   ],
   "id": "e323027d4b46d6df",
   "outputs": [],
   "execution_count": 227
  },
  {
   "metadata": {
    "ExecuteTime": {
     "end_time": "2024-05-21T17:53:38.538038Z",
     "start_time": "2024-05-21T17:53:38.533430Z"
    }
   },
   "cell_type": "code",
   "source": [
    " #Обучаем модель\n",
    "reg_model = LinearRegression()\n",
    "reg_model.fit(X_train, y_train)\n",
    "dump(reg_model, \"model.joblib\")"
   ],
   "id": "c7a5f1a70ffd24be",
   "outputs": [
    {
     "data": {
      "text/plain": [
       "['model.joblib']"
      ]
     },
     "execution_count": 225,
     "metadata": {},
     "output_type": "execute_result"
    }
   ],
   "execution_count": 225
  },
  {
   "metadata": {},
   "cell_type": "code",
   "outputs": [],
   "execution_count": null,
   "source": "",
   "id": "eb247283c89bdc64"
  }
 ],
 "metadata": {
  "kernelspec": {
   "display_name": "Python 3",
   "language": "python",
   "name": "python3"
  },
  "language_info": {
   "codemirror_mode": {
    "name": "ipython",
    "version": 2
   },
   "file_extension": ".py",
   "mimetype": "text/x-python",
   "name": "python",
   "nbconvert_exporter": "python",
   "pygments_lexer": "ipython2",
   "version": "2.7.6"
  }
 },
 "nbformat": 4,
 "nbformat_minor": 5
}
